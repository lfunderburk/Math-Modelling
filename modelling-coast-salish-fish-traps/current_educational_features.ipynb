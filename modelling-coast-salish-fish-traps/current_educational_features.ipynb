{
 "cells": [
  {
   "cell_type": "markdown",
   "metadata": {},
   "source": [
    "# Initial notebook to highlight educational components"
   ]
  },
  {
   "cell_type": "markdown",
   "metadata": {},
   "source": [
    "This notebook showcases the initial education features intended by the callysto fish-trap project.\n",
    "\n",
    "It will use basic geometry to allow the user to build a traps. As the fish traps modeled are semi-circular traps found along beaches and rivers the user  will be able to specify:\n",
    "\n",
    "* the radius of the trap\n",
    "* the height of its walls\n",
    "\n",
    "The slope of the beach, the tide levels, and the location of the trap on the beach are fixed parameters."
   ]
  },
  {
   "cell_type": "code",
   "execution_count": null,
   "metadata": {},
   "outputs": [],
   "source": [
    "%run -i ./scripts/scripts.py\n",
    "import ipywidgets as widgets"
   ]
  },
  {
   "cell_type": "code",
   "execution_count": null,
   "metadata": {},
   "outputs": [],
   "source": [
    "create_tide_plot(timeframe=\"day\", day=1)\n",
    "tide_values = get_tide_values()\n",
    "# print(\"the plot has minimal value:\", min(tide_values))\n",
    "# print(\"the plot has maximal value:\", max(tide_values))"
   ]
  },
  {
   "cell_type": "markdown",
   "metadata": {},
   "source": [
    "The tide values are based of measured readings from a the goverment for 1 week in May. They are measured hourly. To catch fish - the traps lowest point needs to be between the minimum and maximum values. The height of the fish trap is given by:\n",
    "\n",
    "$$z = (b+h)  +m \\cdot y$$\n",
    "\n",
    "where $m$ is the slope of the beach with intercept $b$, and $h$ is the hight of the trap built. The $y$ values come from the user inputs for the radius:\n",
    "\n",
    "$$y = r \\cdot \\sin(\\theta) + \\Delta$$\n",
    "$$x = r \\cdot \\cos(\\theta)$$\n",
    "$$\\theta \\in (0, \\pi)$$\n",
    "\n",
    "The user contols $r$. $\\Delta$ is how far down the beach the trap is fixed at 5m down the beach.\n",
    "\n",
    "\n",
    "The trap can be \"built\" with user controlled inputs"
   ]
  },
  {
   "cell_type": "code",
   "execution_count": null,
   "metadata": {},
   "outputs": [],
   "source": [
    "trap_points = get_perimeter(radius = 25, height = 2)\n",
    "\n",
    "print(\"the highest point of the trap is:\", max(trap_points[2]), \"m\")\n",
    "print(\"the lowest point of the trap is:\", min(trap_points[2]), \"m\")"
   ]
  },
  {
   "cell_type": "markdown",
   "metadata": {},
   "source": [
    "## Below are examples of running the functions for the trap model"
   ]
  },
  {
   "cell_type": "code",
   "execution_count": null,
   "metadata": {},
   "outputs": [],
   "source": [
    "radius = widgets.IntSlider(\n",
    "    value=20,\n",
    "    min=4,\n",
    "    max=25,\n",
    "    step=1,\n",
    "    description='radius:',\n",
    "    disabled=False,\n",
    "    continuous_update=False,\n",
    "    orientation='horizontal',\n",
    "    readout=True,\n",
    "    readout_format='d'\n",
    ")\n",
    "\n",
    "height = widgets.FloatSlider(\n",
    "    value=2,\n",
    "    min=0.4,\n",
    "    max=2,\n",
    "    step=0.2,\n",
    "    description='height:',\n",
    "    disabled=False,\n",
    "    continuous_update=False,\n",
    "    orientation='horizontal',\n",
    "    readout=True,\n",
    "    readout_format='.1f',\n",
    ")\n",
    "\n",
    "slope = widgets.FloatSlider(\n",
    "    value=1.7,\n",
    "    min=0.1,\n",
    "    max=2,\n",
    "    step=0.1,\n",
    "    description='slope:',\n",
    "    disabled=False,\n",
    "    continuous_update=False,\n",
    "    orientation='horizontal',\n",
    "    readout=True,\n",
    "    readout_format='.1f',\n",
    ")\n",
    "\n",
    "constant_population= widgets.Checkbox(\n",
    "    value=False,\n",
    "    description='Keep population constant',\n",
    "    disabled=False\n",
    ")"
   ]
  },
  {
   "cell_type": "code",
   "execution_count": null,
   "metadata": {},
   "outputs": [],
   "source": [
    "display(radius)\n",
    "display(height)\n",
    "display(slope)\n",
    "display(constant_population)"
   ]
  },
  {
   "cell_type": "code",
   "execution_count": null,
   "metadata": {},
   "outputs": [],
   "source": [
    "print(radius.value,height.value,slope.value)\n",
    "plot_trap(radius = radius.value, height = height.value, slope = slope.value)"
   ]
  },
  {
   "cell_type": "code",
   "execution_count": null,
   "metadata": {},
   "outputs": [],
   "source": [
    "# This demonstrates how the model where harvesting is user selected is ran.\n",
    "%run -i ./scripts/scripts.py\n",
    "flag = False\n",
    "results = []\n",
    "selected_harvest = 0\n",
    "while(not flag):\n",
    "    results = run_trap_harvesting(prev_values = results, selected_harvest = selected_harvest)\n",
    "    selected_harvest = math.floor(results[1][-1])\n",
    "    flag = results[4]"
   ]
  },
  {
   "cell_type": "code",
   "execution_count": null,
   "metadata": {},
   "outputs": [],
   "source": [
    "# Same as above but with user prompts that should be replaced by somthing user friendly \n",
    "# the same arguments such as slope and radius can be inputed here\n",
    "%run -i ./scripts/scripts.py\n",
    "flag = False\n",
    "current_results = []\n",
    "selected_harvest = 0\n",
    "while(not flag):\n",
    "    try:\n",
    "        current_results = run_trap_harvesting(prev_values = current_results, selected_harvest = selected_harvest, constant_population = False)\n",
    "    except ValueError:\n",
    "            print(\"INPUT NOT ACCEPTED: enter a positive integer not greater than the number of the fish in the trap.\")\n",
    "    finally:\n",
    "        print(\"there are \", math.floor(current_results[1][-1]), \"fish in the trap.\")\n",
    "        print(\"how many fish would you like to harvest?\")\n",
    "        selected_harvest = input()\n",
    "        flag = current_results[4]\n",
    "    "
   ]
  },
  {
   "cell_type": "code",
   "execution_count": null,
   "metadata": {},
   "outputs": [],
   "source": [
    "# these obtained values can be plotted with this command\n",
    "\n",
    "fish_simulation = {\"Total harvested fish\":current_results[0],\n",
    "\"Total fish in the trap\":current_results[1],\n",
    "\"Total fish outside the trap\":current_results[2]}\n",
    "plot_values(fish_simulation)"
   ]
  },
  {
   "cell_type": "markdown",
   "metadata": {},
   "source": [
    "## Future Work\n",
    "\n",
    "* Laura is working on ipynb buttons for input and creating the narrative for the final product\n",
    "* We need adapt the model such that there is a larger force acting on fish as they become densily populated in the trap\n",
    "* We could refactor code to follow object oriented principals, but this will likely make it harder for less developer focused people to work on and make the code less maintainable\n",
    "* develop visuals (brownian motion)\n",
    "* expand the model to other shapes"
   ]
  },
  {
   "cell_type": "code",
   "execution_count": null,
   "metadata": {},
   "outputs": [],
   "source": [
    "#  get the values for the full week with all fish harvested\n",
    "run_trap"
   ]
  },
  {
   "cell_type": "code",
   "execution_count": null,
   "metadata": {},
   "outputs": [],
   "source": [
    "# get the array showing the hourly tide\n",
    "get_tide_values()"
   ]
  }
 ],
 "metadata": {
  "kernelspec": {
   "display_name": "Python 3",
   "language": "python",
   "name": "python3"
  },
  "language_info": {
   "codemirror_mode": {
    "name": "ipython",
    "version": 3
   },
   "file_extension": ".py",
   "mimetype": "text/x-python",
   "name": "python",
   "nbconvert_exporter": "python",
   "pygments_lexer": "ipython3",
   "version": "3.8.0"
  }
 },
 "nbformat": 4,
 "nbformat_minor": 4
}
