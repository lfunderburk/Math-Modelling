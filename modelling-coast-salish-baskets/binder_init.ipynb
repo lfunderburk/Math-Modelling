{
 "cells": [
  {
   "cell_type": "markdown",
   "metadata": {
    "hidden": false
   },
   "source": [
    "![alt text](https://github.com/callysto/callysto-sample-notebooks/blob/master/notebooks/images/Callysto_Notebook-Banner_Top_06.06.18.jpg?raw=true)  "
   ]
  },
  {
   "cell_type": "markdown",
   "metadata": {
    "hidden": false
   },
   "source": [
    "<h1 align='center'>Install Dependencies for Notebooks</h1>\n",
    "\n",
    "The purpose of this notebook is to  install necessary dependencies to run and use all other notebooks in this repository. In this notebook you will find a single cell. To run it, simply select the \"Restart & Run All Cells\" option in the Kernel menu. Press the \"Restart and Run All\" button when propmted.  \n",
    "\n",
    "<h3>Step 1</h3>\n",
    "\n",
    "![RestartRunAll](./images/Res.png)\n",
    "\n",
    "\n",
    "<h3>Step 2</h3>\n",
    "\n",
    "![RunALL](./images/RestartandRun.png)\n",
    "\n",
    "<h3>Step 3</h3>\n",
    "\n",
    "Download and setting up will begin. Please give it a few minutes for dependencies to be installed. When the notebook is ready, you should see the following at the end of the page\n",
    "\n",
    "![End](./images/End.png)\n",
    "\n",
    "\n",
    "<h3>Step 4</h3>\n",
    "\n",
    "You are ready to begin using the notebooks. "
   ]
  },
  {
   "cell_type": "code",
   "execution_count": 1,
   "metadata": {
    "hidden": false
   },
   "outputs": [
    {
     "name": "stdout",
     "output_type": "stream",
     "text": [
      "Begin set up\n",
      "...\n",
      "Install Matplotlib for 2D and 3D basket models\n",
      "Requirement already satisfied: matplotlib in /Users/brycehaley/anaconda3/envs/callysto-baskets/lib/python3.7/site-packages (3.2.1)\n",
      "Requirement already satisfied: cycler>=0.10 in /Users/brycehaley/anaconda3/envs/callysto-baskets/lib/python3.7/site-packages (from matplotlib) (0.10.0)\n",
      "Requirement already satisfied: python-dateutil>=2.1 in /Users/brycehaley/anaconda3/envs/callysto-baskets/lib/python3.7/site-packages (from matplotlib) (2.8.1)\n",
      "Requirement already satisfied: pyparsing!=2.0.4,!=2.1.2,!=2.1.6,>=2.0.1 in /Users/brycehaley/anaconda3/envs/callysto-baskets/lib/python3.7/site-packages (from matplotlib) (2.4.7)\n",
      "Requirement already satisfied: kiwisolver>=1.0.1 in /Users/brycehaley/anaconda3/envs/callysto-baskets/lib/python3.7/site-packages (from matplotlib) (1.2.0)\n",
      "Requirement already satisfied: numpy>=1.11 in /Users/brycehaley/anaconda3/envs/callysto-baskets/lib/python3.7/site-packages (from matplotlib) (1.18.4)\n",
      "Requirement already satisfied: six in /Users/brycehaley/anaconda3/envs/callysto-baskets/lib/python3.7/site-packages (from cycler>=0.10->matplotlib) (1.15.0)\n",
      "Finished installing Matplotlib\n",
      "...\n",
      "Install seaborn for beautiful colors\n",
      "Requirement already satisfied: seaborn in /Users/brycehaley/anaconda3/envs/callysto-baskets/lib/python3.7/site-packages (0.10.1)\n",
      "Requirement already satisfied: numpy>=1.13.3 in /Users/brycehaley/anaconda3/envs/callysto-baskets/lib/python3.7/site-packages (from seaborn) (1.18.4)\n",
      "Requirement already satisfied: matplotlib>=2.1.2 in /Users/brycehaley/anaconda3/envs/callysto-baskets/lib/python3.7/site-packages (from seaborn) (3.2.1)\n",
      "Requirement already satisfied: scipy>=1.0.1 in /Users/brycehaley/anaconda3/envs/callysto-baskets/lib/python3.7/site-packages (from seaborn) (1.4.1)\n",
      "Requirement already satisfied: pandas>=0.22.0 in /Users/brycehaley/anaconda3/envs/callysto-baskets/lib/python3.7/site-packages (from seaborn) (1.0.4)\n",
      "Requirement already satisfied: cycler>=0.10 in /Users/brycehaley/anaconda3/envs/callysto-baskets/lib/python3.7/site-packages (from matplotlib>=2.1.2->seaborn) (0.10.0)\n",
      "Requirement already satisfied: kiwisolver>=1.0.1 in /Users/brycehaley/anaconda3/envs/callysto-baskets/lib/python3.7/site-packages (from matplotlib>=2.1.2->seaborn) (1.2.0)\n",
      "Requirement already satisfied: python-dateutil>=2.1 in /Users/brycehaley/anaconda3/envs/callysto-baskets/lib/python3.7/site-packages (from matplotlib>=2.1.2->seaborn) (2.8.1)\n",
      "Requirement already satisfied: pyparsing!=2.0.4,!=2.1.2,!=2.1.6,>=2.0.1 in /Users/brycehaley/anaconda3/envs/callysto-baskets/lib/python3.7/site-packages (from matplotlib>=2.1.2->seaborn) (2.4.7)\n",
      "Requirement already satisfied: pytz>=2017.2 in /Users/brycehaley/anaconda3/envs/callysto-baskets/lib/python3.7/site-packages (from pandas>=0.22.0->seaborn) (2020.1)\n",
      "Requirement already satisfied: six in /Users/brycehaley/anaconda3/envs/callysto-baskets/lib/python3.7/site-packages (from cycler>=0.10->matplotlib>=2.1.2->seaborn) (1.15.0)\n",
      "Finished installing seaborn\n",
      "Setup complete\n"
     ]
    }
   ],
   "source": [
    "!echo \"Begin set up\"\n",
    "!echo \"...\"\n",
    "!echo \"Install Matplotlib for 2D and 3D basket models\"\n",
    "!pip install matplotlib --user\n",
    "!echo \"Finished installing Matplotlib\"\n",
    "!echo \"...\"\n",
    "!echo \"Install seaborn for beautiful colors\"\n",
    "!pip install seaborn --user\n",
    "!echo \"Finished installing seaborn\"\n",
    "!echo \"Setup complete\""
   ]
  },
  {
   "cell_type": "markdown",
   "metadata": {
    "hidden": false
   },
   "source": [
    "<h3>Recap</h3>\n",
    "\n",
    "\n",
    "![Demo](./images/InitNB.gif)"
   ]
  },
  {
   "cell_type": "markdown",
   "metadata": {
    "hidden": false
   },
   "source": [
    "![alt text](https://github.com/callysto/callysto-sample-notebooks/blob/master/notebooks/images/Callysto_Notebook-Banners_Bottom_06.06.18.jpg?raw=true)"
   ]
  }
 ],
 "metadata": {
  "kernelspec": {
   "display_name": "Python 3",
   "language": "python",
   "name": "python3"
  },
  "language_info": {
   "codemirror_mode": {
    "name": "ipython",
    "version": 3
   },
   "file_extension": ".py",
   "mimetype": "text/x-python",
   "name": "python",
   "nbconvert_exporter": "python",
   "pygments_lexer": "ipython3",
   "version": "3.7.6"
  }
 },
 "nbformat": 4,
 "nbformat_minor": 4
}
